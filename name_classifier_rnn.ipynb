{
  "nbformat": 4,
  "nbformat_minor": 0,
  "metadata": {
    "colab": {
      "name": "name-classifier-rnn",
      "provenance": [],
      "authorship_tag": "ABX9TyN86RXxQbH2NQaAduojvK5c",
      "include_colab_link": true
    },
    "kernelspec": {
      "name": "python3",
      "display_name": "Python 3"
    }
  },
  "cells": [
    {
      "cell_type": "markdown",
      "metadata": {
        "id": "view-in-github",
        "colab_type": "text"
      },
      "source": [
        "<a href=\"https://colab.research.google.com/github/jagr7/nlp-name-classifier/blob/master/name_classifier_rnn.ipynb\" target=\"_parent\"><img src=\"https://colab.research.google.com/assets/colab-badge.svg\" alt=\"Open In Colab\"/></a>"
      ]
    },
    {
      "cell_type": "markdown",
      "metadata": {
        "id": "Be8m1uB3-1bT",
        "colab_type": "text"
      },
      "source": [
        "# NLP From Scratch: Classifying Names with a Character Level RNN"
      ]
    },
    {
      "cell_type": "markdown",
      "metadata": {
        "id": "KwoZBn1d9lT1",
        "colab_type": "text"
      },
      "source": [
        "# clone data"
      ]
    },
    {
      "cell_type": "code",
      "metadata": {
        "id": "JrvfWIHy9kgl",
        "colab_type": "code",
        "outputId": "74f0a037-edaf-479c-8205-200dbf70737b",
        "colab": {
          "base_uri": "https://localhost:8080/",
          "height": 34
        }
      },
      "source": [
        "!git clone https://github.com/jaybirrd/nlp_name_classifier.git"
      ],
      "execution_count": 12,
      "outputs": [
        {
          "output_type": "stream",
          "text": [
            "fatal: destination path 'nlp_name_classifier' already exists and is not an empty directory.\n"
          ],
          "name": "stdout"
        }
      ]
    },
    {
      "cell_type": "markdown",
      "metadata": {
        "id": "POgB41g0iqaC",
        "colab_type": "text"
      },
      "source": [
        "# prepare the data"
      ]
    },
    {
      "cell_type": "code",
      "metadata": {
        "id": "WGNSSRugx_3B",
        "colab_type": "code",
        "colab": {
          "base_uri": "https://localhost:8080/",
          "height": 70
        },
        "outputId": "693b5ca0-497e-4e03-c908-9f662ed0d4b1"
      },
      "source": [
        "from __future__ import unicode_literals, print_function, division\n",
        "from io import open\n",
        "import glob\n",
        "import os\n",
        "\n",
        "def find_files(path):\n",
        "  return glob.glob(path)\n",
        "\n",
        "print(find_files('nlp_name_classifier/data/names/*.txt \\n'))\n",
        "\n",
        "import unicodedata\n",
        "import string\n",
        "\n",
        "all_letters = string.ascii_letters + \" .,;'\"\n",
        "n_letters = len(all_letters)\n",
        "\n",
        "def unicode_to_ascii(s):\n",
        "  return ''.join(\n",
        "      c for c in unicodedata.normalize('NFD', s)\n",
        "        if unicodedata.category(c) != 'Mn'\n",
        "        and c in all_letters\n",
        "  )\n",
        "\n",
        "print(unicode_to_ascii('Ślusàrski \\n'))\n",
        "\n",
        "category_lines = {}\n",
        "all_categories = []\n",
        "\n",
        "def read_lines(filename):\n",
        "  lines = open(filename, encoding='utf-8').read().strip().split('\\n')\n",
        "  return [unicode_to_ascii(line) for line in lines]\n",
        "\n",
        "#FUTURE DEV: put a popup here to select different datasets to analyze\n",
        "\n",
        "for filename in find_files('nlp_name_classifier/data/names/*.txt'):\n",
        "  category = os.path.splitext(os.path.basename(filename))[0]\n",
        "  all_categories.append(category)\n",
        "  lines = read_lines(filename)\n",
        "  category_lines[category] = lines\n",
        "\n",
        "n_categories = len(all_categories)\n",
        "\n",
        "print(category_lines['Italian'][:5])"
      ],
      "execution_count": 27,
      "outputs": [
        {
          "output_type": "stream",
          "text": [
            "[]\n",
            "Slusarski \n",
            "['Abandonato', 'Abatangelo', 'Abatantuono', 'Abate', 'Abategiovanni']\n"
          ],
          "name": "stdout"
        }
      ]
    },
    {
      "cell_type": "markdown",
      "metadata": {
        "id": "126YpQL3G5Uy",
        "colab_type": "text"
      },
      "source": [
        "# turn names into tensors"
      ]
    },
    {
      "cell_type": "code",
      "metadata": {
        "id": "SZR2-ZRV8CBC",
        "colab_type": "code",
        "colab": {}
      },
      "source": [
        "import torch\n",
        "\n",
        "def letter_to_index(letter):\n",
        "  return all_letters.find(letter)\n",
        "\n",
        "#turn a letter into a <1 x n_letters> Tensor\n",
        "def letter_to_tensor(letter):\n",
        "  tensor = torch.zeros(1,n_letters)\n",
        "  tensor[0][letter_to_index(letter)] = 1\n",
        "  return tensor\n",
        "\n",
        "#turn lines into a <line length x 1 x n_letters> Tensor\n",
        "def line_to_tensor(line):\n",
        "  tensor = torch.zeros(len(line),1,n_letters)\n",
        "  for i, letter in enumerate(line):\n",
        "    tensor[i][0][letter_to_index(letter)] = 1\n",
        "    return tensor\n",
        "\n",
        "print(line_to_tensor('James').size())\n",
        "print(letter_to_tensor('J'))"
      ],
      "execution_count": 0,
      "outputs": []
    },
    {
      "cell_type": "markdown",
      "metadata": {
        "id": "Sws4a9Js-sYS",
        "colab_type": "text"
      },
      "source": [
        "# creating the network"
      ]
    },
    {
      "cell_type": "code",
      "metadata": {
        "id": "8h0k_9ks-bxu",
        "colab_type": "code",
        "outputId": "45c5d45c-0b5d-4440-ac27-3d8f40ac4cc3",
        "colab": {
          "base_uri": "https://localhost:8080/",
          "height": 354
        }
      },
      "source": [
        "import torch.nn as nn\n",
        "\n",
        "class RNN(nn.Module):\n",
        "    def __init__(self, input_size, hidden_size, output_size):\n",
        "      super(RNN, self).__init__()\n",
        "      self.hidden_size = hidden_size\n",
        "      self.i2h = nn.Linear(input_size + hidden_size, hidden_size)\n",
        "      self.i2o = nn.Linear(input_size + hidden_size, output_size)\n",
        "      self.softmax = nn.LogSoftmax(dim=1)\n",
        "\n",
        "    def forward(self, input, hidden):\n",
        "      combined = torch.cat((input, hidden), dim=1)\n",
        "      hidden = self.i2h(combined)\n",
        "      output = self.softmax(self.i2o(combined))\n",
        "      return output, hidden\n",
        "\n",
        "    def init_hidden(self):\n",
        "      return torch.zeros(1, self.hidden_size)\n",
        "\n",
        "n_hidden = 128\n",
        "rnn = RNN(n_letters, n_hidden, n_categories)\n",
        "\n",
        "#FUTURE DEV: set up precomputing of tensors to further optimize\n",
        "\n",
        "input = line_to_tensor('Albert')\n",
        "hidden = torch.zeros(1, n_hidden)\n",
        "output, next_hidden = rnn(input[0], hidden)\n",
        "print(output)\n"
      ],
      "execution_count": 15,
      "outputs": [
        {
          "output_type": "stream",
          "text": [
            "tensor([[-2.8877, -2.9861, -2.9419, -2.9846, -2.9021, -2.8357, -2.9020, -2.8921,\n",
            "         -2.8602, -2.8444, -2.8863, -2.9321, -2.8148, -2.8425, -2.8796, -2.8332,\n",
            "         -2.8869, -2.9353]], grad_fn=<LogSoftmaxBackward>) tensor([[ 0.0036,  0.1138, -0.0932,  0.0029,  0.0420,  0.0459,  0.0086,  0.0115,\n",
            "         -0.0124,  0.0462,  0.0051,  0.0626,  0.0077, -0.0868,  0.0179,  0.0588,\n",
            "          0.0463, -0.0310,  0.0558, -0.0251, -0.0628, -0.0728,  0.0628, -0.0274,\n",
            "         -0.0265,  0.0405,  0.0073, -0.0087, -0.0378, -0.0429, -0.0407,  0.0023,\n",
            "          0.0815,  0.0272, -0.0645,  0.0201,  0.0158,  0.0850,  0.0164, -0.0289,\n",
            "         -0.0731,  0.0456, -0.1290, -0.0940,  0.0301,  0.0575, -0.0411, -0.0086,\n",
            "          0.0853,  0.1004,  0.0846, -0.0643, -0.0025,  0.0945,  0.0712, -0.0056,\n",
            "          0.0877,  0.0693,  0.0758, -0.1100,  0.0722,  0.0677, -0.1292, -0.0123,\n",
            "         -0.0735,  0.0722, -0.1340, -0.1256,  0.0465,  0.0385,  0.0364, -0.0288,\n",
            "          0.0845, -0.0273,  0.0232, -0.0487,  0.0006, -0.1327,  0.0887,  0.0399,\n",
            "          0.1064, -0.0106,  0.0227,  0.0446,  0.0068,  0.0210,  0.0251, -0.0260,\n",
            "          0.0452, -0.0454, -0.0881, -0.0104,  0.0370,  0.0402, -0.0915, -0.0267,\n",
            "          0.0466, -0.1002, -0.0126, -0.0024, -0.0813, -0.0595, -0.0428, -0.0916,\n",
            "          0.0671,  0.0262,  0.0971,  0.0077, -0.0912, -0.0022, -0.0538,  0.0299,\n",
            "         -0.0381, -0.0196, -0.0493,  0.0824,  0.0336,  0.0564,  0.0946, -0.0163,\n",
            "          0.0391,  0.1003, -0.0317, -0.0270, -0.0551,  0.0272, -0.0747, -0.0205]],\n",
            "       grad_fn=<AddmmBackward>)\n"
          ],
          "name": "stdout"
        }
      ]
    },
    {
      "cell_type": "markdown",
      "metadata": {
        "id": "k0KfPFk1B5d7",
        "colab_type": "text"
      },
      "source": [
        "# preparing for training"
      ]
    },
    {
      "cell_type": "code",
      "metadata": {
        "id": "HPDUsxWqB6So",
        "colab_type": "code",
        "outputId": "52eb23c5-0644-44ec-9e9a-2ae17c94f680",
        "colab": {
          "base_uri": "https://localhost:8080/",
          "height": 212
        }
      },
      "source": [
        "import random\n",
        "\n",
        "#netowrk interpreter - guess category based on network output\n",
        "def category_guess(output):\n",
        "  n, i = output.topk(1)\n",
        "  category_index = i.item()\n",
        "  return all_categories[category_index], category_index\n",
        "\n",
        "print(category_guess(output))\n",
        "\n",
        "#generate a training example\n",
        "def random_select(x):\n",
        "  return x[random.randint(0,len(x)-1)]\n",
        "\n",
        "def random_category():\n",
        "  r_cat = random_choice(all_categories)\n",
        "  r_line = random_choice(category_lines[r_cat])\n",
        "  category_tensor = torch.tensor([all_categories.index(r_cat)], dtype=torch.long)\n",
        "  line_tensor = line_to_tensor(r_line)\n",
        "  return r_cat, r_line, category_tensor, line_tensor\n",
        "\n",
        "for i in range(10):\n",
        "    r_cat, r_line, category_tensor, line_tensor = random_category()\n",
        "    print('category =', r_cat, '/ line =', r_line)\n"
      ],
      "execution_count": 22,
      "outputs": [
        {
          "output_type": "stream",
          "text": [
            "('Dutch', 12)\n",
            "category = German / line = Grosse\n",
            "category = Portuguese / line = Lobo\n",
            "category = Portuguese / line = Souza\n",
            "category = Greek / line = Diakogeorgiou\n",
            "category = Czech / line = Psik\n",
            "category = Scottish / line = Reid\n",
            "category = Dutch / line = Rooijakkers\n",
            "category = Chinese / line = Kwei\n",
            "category = Russian / line = Enin\n",
            "category = Spanish / line = Echeverria\n"
          ],
          "name": "stdout"
        }
      ]
    },
    {
      "cell_type": "markdown",
      "metadata": {
        "id": "sjF38strxbjP",
        "colab_type": "text"
      },
      "source": [
        "# training the network"
      ]
    },
    {
      "cell_type": "code",
      "metadata": {
        "id": "vfp8-UP5tLrH",
        "colab_type": "code",
        "colab": {
          "base_uri": "https://localhost:8080/",
          "height": 1000
        },
        "outputId": "ecfddf0d-3a21-4c5d-fdac-84870c8cce76"
      },
      "source": [
        "#set up the training function\n",
        "criterion = nn.NLLLoss()\n",
        "learning_rate = .005\n",
        "\n",
        "def train(category_tensor, line_tensor):\n",
        "  hidden = rnn.init_hidden()\n",
        "  rnn.zero_grad()\n",
        "  \n",
        "  for i in range(line_tensor.size()[0]):\n",
        "    output, hidden = rnn(line_tensor[i], hidden)\n",
        "\n",
        "  loss = criterion(output, category_tensor)\n",
        "  loss.backward()\n",
        "\n",
        "  for p in rnn.parameters():\n",
        "    p.data.add_(-learning_rate, p.grad.data)\n",
        "\n",
        "  return output, loss.item()\n",
        "\n",
        "#train the network\n",
        "import time\n",
        "import math\n",
        "\n",
        "n_iters = 100000\n",
        "print_every = 5000\n",
        "plot_every = 1000\n",
        "\n",
        "current_loss = 0\n",
        "all_losses = []\n",
        "\n",
        "def time_since(since):\n",
        "    now = time.time()\n",
        "    s = now - since\n",
        "    m = math.floor(s / 60)\n",
        "    s -= m * 60\n",
        "    return '%dm %ds' % (m, s)\n",
        "\n",
        "start = time.time()\n",
        "\n",
        "for i in range(1,n_iters+1):\n",
        "  r_cat, r_line, category_tensor, line_tensor = random_category()\n",
        "  output, loss = train(category_tensor, line_tensor)\n",
        "  current_loss += loss\n",
        "\n",
        "  if i % plot_every ==0:\n",
        "    guess, guess_index = category_guess(output)\n",
        "    correct = '✓' if guess == r_cat else '✗ (%s)' % r_cat\n",
        "    all_losses.append(current_loss/plot_every)\n",
        "    current_loss = 0\n",
        "\n",
        "    print('%d %d%% (%s) %.4f %s / %s %s' % (i, i/n_iters * 100, time_since(start), loss, r_line, guess, correct))"
      ],
      "execution_count": 24,
      "outputs": [
        {
          "output_type": "stream",
          "text": [
            "1000 1% (0m 1s) 2.8658 Do / Russian ✗ (Vietnamese)\n",
            "2000 2% (0m 2s) 2.7346 Tsapaev / Russian ✓\n",
            "3000 3% (0m 4s) 3.0029 Takekawa / Russian ✗ (Japanese)\n",
            "4000 4% (0m 5s) 3.0040 Ruan / French ✗ (Chinese)\n",
            "5000 5% (0m 7s) 3.1000 Hike / German ✗ (Japanese)\n",
            "6000 6% (0m 8s) 2.4535 Mach / Korean ✗ (Vietnamese)\n",
            "7000 7% (0m 9s) 2.9723 Fernandes / Italian ✗ (Portuguese)\n",
            "8000 8% (0m 11s) 2.6343 Noschese / Russian ✗ (Italian)\n",
            "9000 9% (0m 12s) 3.2282 Duong / Arabic ✗ (Vietnamese)\n",
            "10000 10% (0m 13s) 2.7814 Niadh / Arabic ✗ (Irish)\n",
            "11000 11% (0m 15s) 2.6139 Lennon / French ✗ (Irish)\n",
            "12000 12% (0m 16s) 3.7536 Feld / Korean ✗ (German)\n",
            "13000 13% (0m 17s) 2.7593 Akkeren / French ✗ (Dutch)\n",
            "14000 14% (0m 19s) 2.6540 Docherty / Japanese ✗ (Scottish)\n",
            "15000 15% (0m 20s) 2.5132 Ravenna / Polish ✗ (Italian)\n",
            "16000 16% (0m 21s) 2.6463 Matos / Arabic ✗ (Portuguese)\n",
            "17000 17% (0m 23s) 3.4884 Nguyen / Arabic ✗ (Vietnamese)\n",
            "18000 18% (0m 24s) 2.0574 Stamatelos / Russian ✗ (Greek)\n",
            "19000 19% (0m 25s) 2.5208 Trieu / Arabic ✗ (Vietnamese)\n",
            "20000 20% (0m 27s) 2.6196 O'Reilly / Russian ✗ (Irish)\n",
            "21000 21% (0m 28s) 2.3796 Vilmont / Russian ✓\n",
            "22000 22% (0m 29s) 2.9127 Atiyeh / English ✗ (Arabic)\n",
            "23000 23% (0m 31s) 2.7371 Naggia / Spanish ✗ (Italian)\n",
            "24000 24% (0m 32s) 2.7640 Aggelen / French ✗ (Dutch)\n",
            "25000 25% (0m 34s) 2.2969 Gataullin / Greek ✗ (Russian)\n",
            "26000 26% (0m 35s) 3.7987 Mclaughlin / Greek ✗ (Scottish)\n",
            "27000 27% (0m 36s) 2.4268 O'Sullivan / Greek ✗ (Irish)\n",
            "28000 28% (0m 38s) 2.2224 Mifsud / Arabic ✓\n",
            "29000 28% (0m 39s) 2.7519 Moles / Arabic ✗ (Spanish)\n",
            "30000 30% (0m 40s) 3.1164 Czajkowski / Greek ✗ (Polish)\n",
            "31000 31% (0m 42s) 2.7346 Mitsubishi / Russian ✗ (Japanese)\n",
            "32000 32% (0m 43s) 2.3190 Mikhnenko / Dutch ✗ (Russian)\n",
            "33000 33% (0m 44s) 2.5409 Elizondo / Russian ✗ (Spanish)\n",
            "34000 34% (0m 46s) 2.8476 Donnell / Japanese ✗ (Irish)\n",
            "35000 35% (0m 47s) 3.3291 Tronye / Arabic ✗ (Russian)\n",
            "36000 36% (0m 49s) 3.9390 Teagan / Vietnamese ✗ (Irish)\n",
            "37000 37% (0m 50s) 3.0139 Aleshire / Russian ✗ (German)\n",
            "38000 38% (0m 52s) 0.9298 Chin / Korean ✓\n",
            "39000 39% (0m 53s) 2.2051 Karameros / Russian ✗ (Greek)\n",
            "40000 40% (0m 55s) 2.4278 Mayer / Italian ✗ (Czech)\n",
            "41000 41% (0m 56s) 2.7392 Schneiders / Russian ✗ (Dutch)\n",
            "42000 42% (0m 58s) 2.5156 Paredes / French ✗ (Portuguese)\n",
            "43000 43% (0m 59s) 3.0214 Schermer / Japanese ✗ (German)\n",
            "44000 44% (1m 1s) 5.5667 Gwang  / Arabic ✗ (Korean)\n",
            "45000 45% (1m 2s) 2.8721 Mcnab / Arabic ✗ (Irish)\n",
            "46000 46% (1m 3s) 1.2636 Woo / Chinese ✗ (Korean)\n",
            "47000 47% (1m 5s) 2.8028 Kloeter / Portuguese ✗ (Dutch)\n",
            "48000 48% (1m 6s) 1.8596 Yoshizaki / Japanese ✓\n",
            "49000 49% (1m 8s) 3.3158 Pinheiro / Greek ✗ (Portuguese)\n",
            "50000 50% (1m 9s) 2.7558 Safar / German ✗ (Arabic)\n",
            "51000 51% (1m 10s) 2.4814 Connolly / English ✗ (Irish)\n",
            "52000 52% (1m 12s) 3.2198 Malouf / Irish ✗ (Arabic)\n",
            "53000 53% (1m 13s) 2.9517 Ngai / Chinese ✗ (Korean)\n",
            "54000 54% (1m 14s) 2.7066 Ugaki / German ✗ (Japanese)\n",
            "55000 55% (1m 16s) 1.7431 Nahas / Arabic ✓\n",
            "56000 56% (1m 17s) 2.7806 Antipas / Russian ✗ (Greek)\n",
            "57000 56% (1m 18s) 2.8302 Sheehy / Arabic ✗ (Irish)\n",
            "58000 57% (1m 20s) 2.1466 Mitchell / Japanese ✗ (Scottish)\n",
            "59000 59% (1m 21s) 1.1065 Chun / Korean ✓\n",
            "60000 60% (1m 23s) 1.3617 Cho / Chinese ✗ (Korean)\n",
            "61000 61% (1m 24s) 2.5008 O'Keefe / Korean ✗ (Irish)\n",
            "62000 62% (1m 25s) 2.7145 Kolen / Japanese ✗ (Dutch)\n",
            "63000 63% (1m 27s) 3.0155 Clark / Korean ✗ (Irish)\n",
            "64000 64% (1m 28s) 2.6940 Sluaghadhan / Polish ✗ (Irish)\n",
            "65000 65% (1m 29s) 7.2085 OwYang / Irish ✗ (Chinese)\n",
            "66000 66% (1m 31s) 3.2502 Neumann / Japanese ✗ (German)\n",
            "67000 67% (1m 32s) 2.9165 Grosz / Vietnamese ✗ (German)\n",
            "68000 68% (1m 33s) 0.5165 To / Vietnamese ✓\n",
            "69000 69% (1m 35s) 3.0554 Martoyas / Arabic ✗ (Russian)\n",
            "70000 70% (1m 36s) 2.9730 Segher / Arabic ✗ (Dutch)\n",
            "71000 71% (1m 37s) 2.8556 Svotchak / Japanese ✗ (Czech)\n",
            "72000 72% (1m 39s) 2.5883 Acciaioli / Russian ✗ (Italian)\n",
            "73000 73% (1m 40s) 2.3989 Fukuzawa / Scottish ✗ (Japanese)\n",
            "74000 74% (1m 41s) 2.8452 Mozzis / Arabic ✗ (Czech)\n",
            "75000 75% (1m 43s) 2.2356 Ustimenko / German ✗ (Russian)\n",
            "76000 76% (1m 44s) 2.9992 Vela / Vietnamese ✗ (Spanish)\n",
            "77000 77% (1m 46s) 1.9463 Touma / Vietnamese ✗ (Arabic)\n",
            "78000 78% (1m 47s) 0.9109 Dam / Vietnamese ✓\n",
            "79000 79% (1m 48s) 2.6735 Nevin / Arabic ✗ (Irish)\n",
            "80000 80% (1m 50s) 2.2388 Beloborodov / Greek ✗ (Russian)\n",
            "81000 81% (1m 51s) 2.5870 Ruaidh / Scottish ✗ (Irish)\n",
            "82000 82% (1m 52s) 2.0296 Oirschot / Irish ✗ (Dutch)\n",
            "83000 83% (1m 54s) 3.1892 Suero / Czech ✗ (Spanish)\n",
            "84000 84% (1m 55s) 2.5958 Lestrange / Greek ✗ (French)\n",
            "85000 85% (1m 57s) 1.9044 Morrison / Japanese ✗ (Scottish)\n",
            "86000 86% (1m 58s) 2.9642 Krantz / Japanese ✗ (Dutch)\n",
            "87000 87% (1m 59s) 2.4501 Bolivar / Polish ✗ (Spanish)\n",
            "88000 88% (2m 1s) 3.4966 Solo / Korean ✗ (Spanish)\n",
            "89000 89% (2m 2s) 2.4489 Ilyuhin / Italian ✗ (Russian)\n",
            "90000 90% (2m 4s) 4.7649 Lis / Vietnamese ✗ (Polish)\n",
            "91000 91% (2m 5s) 1.3908 Bui / Chinese ✗ (Vietnamese)\n",
            "92000 92% (2m 6s) 2.3592 Phocas / Spanish ✗ (Greek)\n",
            "93000 93% (2m 8s) 2.3207 Lee / Vietnamese ✗ (Korean)\n",
            "94000 94% (2m 9s) 3.5467 Tsai  / Vietnamese ✗ (Korean)\n",
            "95000 95% (2m 11s) 3.4955 Uzov / Arabic ✗ (Russian)\n",
            "96000 96% (2m 12s) 2.0715 Sneijder / Dutch ✓\n",
            "97000 97% (2m 13s) 0.4093 Thai / Vietnamese ✓\n",
            "98000 98% (2m 15s) 2.9462 Rawlings / Dutch ✗ (English)\n",
            "99000 99% (2m 16s) 2.2838 Kranz / Arabic ✗ (Dutch)\n",
            "100000 100% (2m 17s) 2.9772 Mooney / Irish ✗ (English)\n"
          ],
          "name": "stdout"
        }
      ]
    },
    {
      "cell_type": "markdown",
      "metadata": {
        "id": "cq5-hnuX-z7f",
        "colab_type": "text"
      },
      "source": [
        "# plot results"
      ]
    },
    {
      "cell_type": "code",
      "metadata": {
        "id": "VzH6bDso-0cW",
        "colab_type": "code",
        "colab": {
          "base_uri": "https://localhost:8080/",
          "height": 282
        },
        "outputId": "9956a35f-9524-43cf-d837-e9dd510025d6"
      },
      "source": [
        "import matplotlib.pyplot as plt\n",
        "import matplotlib.ticker as ticker\n",
        "\n",
        "plt.figure()\n",
        "plt.plot(all_losses)"
      ],
      "execution_count": 25,
      "outputs": [
        {
          "output_type": "execute_result",
          "data": {
            "text/plain": [
              "[<matplotlib.lines.Line2D at 0x7f6f679e0b38>]"
            ]
          },
          "metadata": {
            "tags": []
          },
          "execution_count": 25
        },
        {
          "output_type": "display_data",
          "data": {
            "image/png": "[encoded data removed]",
            "text/plain": [
              "<Figure size 432x288 with 1 Axes>"
            ]
          },
          "metadata": {
            "tags": []
          }
        }
      ]
    },
    {
      "cell_type": "markdown",
      "metadata": {
        "id": "6RNStRmw_LOv",
        "colab_type": "text"
      },
      "source": [
        "# evaluate results"
      ]
    },
    {
      "cell_type": "code",
      "metadata": {
        "id": "bPGULb0o_-Dz",
        "colab_type": "code",
        "colab": {}
      },
      "source": [
        "#create confusion matrix\n",
        "confusion = torch.zeros(n_categories,n_categories)\n",
        "n_confusion = 10000\n",
        "\n",
        "def evaluate(line_tensor):\n",
        "  hidden = rnn.init_hidden()\n",
        "  for i in range(line_tensor.size()[0]):\n",
        "    output, hidden = rnn(line_tensor[i], hidden)\n",
        "\n",
        "  return output\n",
        "\n",
        "for i in range(n_confusion):\n",
        "  r_cat, r_line, category_tensor, line_tensor = random_category()\n",
        "  output = evaluate(line_tensor)\n",
        "  guess_index, guess = category_guess(output)\n",
        "  category_index = all_categories.index(r_cat)\n",
        "  confusion[category_index][guess_index] +=1"
      ],
      "execution_count": 0,
      "outputs": []
    }
  ]
}